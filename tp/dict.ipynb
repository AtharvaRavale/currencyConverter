{
 "cells": [
  {
   "cell_type": "code",
   "execution_count": 1,
   "metadata": {},
   "outputs": [],
   "source": [
    "a=[\n",
    "    [1,2,3],\n",
    "    [4,5,6],\n",
    "    [7,8,9]\n",
    "]"
   ]
  },
  {
   "cell_type": "code",
   "execution_count": 2,
   "metadata": {},
   "outputs": [],
   "source": [
    "def check(a:list):\n",
    "    check=len(a[0])\n",
    "    for i in a:\n",
    "        if len(i)!=check:\n",
    "            return (False)\n",
    "    b=[]\n",
    "    for j in range(len(a[0])-1,-1,-1):\n",
    "        b.append(list())\n",
    "        for i in range(len(a)):\n",
    "            print(a[i][j],end='     ')\n",
    "            b[len(a)-j-1].append(a[i][j])\n",
    "        print()\n",
    "\n",
    "    return b    "
   ]
  },
  {
   "cell_type": "code",
   "execution_count": 10,
   "metadata": {},
   "outputs": [
    {
     "name": "stdout",
     "output_type": "stream",
     "text": [
      "3     6     9     \n",
      "2     5     8     \n",
      "1     4     7     \n"
     ]
    }
   ],
   "source": [
    "a=check(a)"
   ]
  },
  {
   "cell_type": "code",
   "execution_count": null,
   "metadata": {},
   "outputs": [],
   "source": []
  }
 ],
 "metadata": {
  "kernelspec": {
   "display_name": "Python 3",
   "language": "python",
   "name": "python3"
  },
  "language_info": {
   "codemirror_mode": {
    "name": "ipython",
    "version": 3
   },
   "file_extension": ".py",
   "mimetype": "text/x-python",
   "name": "python",
   "nbconvert_exporter": "python",
   "pygments_lexer": "ipython3",
   "version": "3.12.8"
  }
 },
 "nbformat": 4,
 "nbformat_minor": 2
}
